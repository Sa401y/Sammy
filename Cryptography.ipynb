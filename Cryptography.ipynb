{
 "cells": [
  {
   "cell_type": "code",
   "execution_count": 1,
   "metadata": {},
   "outputs": [
    {
     "name": "stdout",
     "output_type": "stream",
     "text": [
      ".\n",
      ".d\n",
      ".da\n",
      ".dae\n",
      ".daed\n",
      ".daed \n",
      ".daed e\n",
      ".daed er\n",
      ".daed era\n",
      ".daed era \n",
      ".daed era m\n",
      ".daed era me\n",
      ".daed era meh\n",
      ".daed era meht\n",
      ".daed era meht \n",
      ".daed era meht f\n",
      ".daed era meht fo\n",
      ".daed era meht fo \n",
      ".daed era meht fo o\n",
      ".daed era meht fo ow\n",
      ".daed era meht fo owt\n",
      ".daed era meht fo owt \n",
      ".daed era meht fo owt f\n",
      ".daed era meht fo owt fi\n",
      ".daed era meht fo owt fi \n",
      ".daed era meht fo owt fi ,\n",
      ".daed era meht fo owt fi ,t\n",
      ".daed era meht fo owt fi ,te\n",
      ".daed era meht fo owt fi ,ter\n",
      ".daed era meht fo owt fi ,terc\n",
      ".daed era meht fo owt fi ,terce\n",
      ".daed era meht fo owt fi ,terces\n",
      ".daed era meht fo owt fi ,terces \n",
      ".daed era meht fo owt fi ,terces a\n",
      ".daed era meht fo owt fi ,terces a \n",
      ".daed era meht fo owt fi ,terces a p\n",
      ".daed era meht fo owt fi ,terces a pe\n",
      ".daed era meht fo owt fi ,terces a pee\n",
      ".daed era meht fo owt fi ,terces a peek\n",
      ".daed era meht fo owt fi ,terces a peek \n",
      ".daed era meht fo owt fi ,terces a peek n\n",
      ".daed era meht fo owt fi ,terces a peek na\n",
      ".daed era meht fo owt fi ,terces a peek nac\n",
      ".daed era meht fo owt fi ,terces a peek nac \n",
      ".daed era meht fo owt fi ,terces a peek nac e\n",
      ".daed era meht fo owt fi ,terces a peek nac ee\n",
      ".daed era meht fo owt fi ,terces a peek nac eer\n",
      ".daed era meht fo owt fi ,terces a peek nac eerh\n",
      ".daed era meht fo owt fi ,terces a peek nac eerhT\n"
     ]
    }
   ],
   "source": [
    "message = 'Three can keep a secret, if two of them are dead.'\n",
    "translated= ''\n",
    "i = len(message) -1\n",
    "while i >= 0:\n",
    "    translated= translated+ message[i]\n",
    "    i = i -1\n",
    "    print(translated)"
   ]
  },
  {
   "cell_type": "code",
   "execution_count": null,
   "metadata": {
    "collapsed": true
   },
   "outputs": [],
   "source": []
  }
 ],
 "metadata": {
  "kernelspec": {
   "display_name": "Python 3",
   "language": "python",
   "name": "python3"
  },
  "language_info": {
   "codemirror_mode": {
    "name": "ipython",
    "version": 3
   },
   "file_extension": ".py",
   "mimetype": "text/x-python",
   "name": "python",
   "nbconvert_exporter": "python",
   "pygments_lexer": "ipython3",
   "version": "3.6.7"
  }
 },
 "nbformat": 4,
 "nbformat_minor": 2
}
